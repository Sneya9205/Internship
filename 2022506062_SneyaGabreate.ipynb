{
  "nbformat": 4,
  "nbformat_minor": 0,
  "metadata": {
    "colab": {
      "provenance": [],
      "authorship_tag": "ABX9TyPiWEFYhO1b7/I2X1XWP1CF",
      "include_colab_link": true
    },
    "kernelspec": {
      "name": "python3",
      "display_name": "Python 3"
    },
    "language_info": {
      "name": "python"
    }
  },
  "cells": [
    {
      "cell_type": "markdown",
      "metadata": {
        "id": "view-in-github",
        "colab_type": "text"
      },
      "source": [
        "<a href=\"https://colab.research.google.com/github/Sneya9205/Internship/blob/main/2022506062_SneyaGabreate.ipynb\" target=\"_parent\"><img src=\"https://colab.research.google.com/assets/colab-badge.svg\" alt=\"Open In Colab\"/></a>"
      ]
    },
    {
      "cell_type": "markdown",
      "source": [
        "Content-Based Movie Similarity Using TensorFlow: Finding Similar Movies with Title Embeddings"
      ],
      "metadata": {
        "id": "7VFuIZgVguyF"
      }
    },
    {
      "cell_type": "markdown",
      "source": [
        "Install and Import"
      ],
      "metadata": {
        "id": "ASFy91x9gmIg"
      }
    },
    {
      "cell_type": "code",
      "execution_count": 29,
      "metadata": {
        "id": "tqI-FDPYzGTr"
      },
      "outputs": [],
      "source": [
        "!pip install -q tensorflow-recommenders\n",
        "!pip install -q --upgrade tensorflow-datasets\n",
        "\n",
        "import numpy as np\n",
        "import tensorflow as tf\n",
        "import tensorflow_datasets as tfds\n",
        "import tensorflow_recommenders as tfrs\n"
      ]
    },
    {
      "cell_type": "markdown",
      "source": [
        "Loading the data"
      ],
      "metadata": {
        "id": "Uw9Ic64Vgj4t"
      }
    },
    {
      "cell_type": "code",
      "source": [
        "# Load movie metadata.\n",
        "movies = tfds.load('movielens/100k-movies', split=\"train\")\n",
        "\n",
        "# Extract movie titles.\n",
        "movies = movies.map(lambda x: x[\"movie_title\"])\n",
        "\n",
        "# Create movie title vocabulary.\n",
        "movie_titles_vocabulary = tf.keras.layers.StringLookup(mask_token=None)\n",
        "movie_titles_vocabulary.adapt(movies)\n"
      ],
      "metadata": {
        "id": "Wmhob3d0ZY-c"
      },
      "execution_count": 30,
      "outputs": []
    },
    {
      "cell_type": "markdown",
      "source": [
        "Model Definition"
      ],
      "metadata": {
        "id": "Hz8IJZ18V0FF"
      }
    },
    {
      "cell_type": "code",
      "source": [
        "class MovieSimilarityModel(tf.keras.Model):\n",
        "    def __init__(self, movie_model):\n",
        "        super().__init__()\n",
        "        self.movie_model = movie_model\n",
        "\n",
        "    def call(self, inputs):\n",
        "        # Get embeddings for movie titles.\n",
        "        movie_embeddings = self.movie_model(inputs)\n",
        "        # Normalize embeddings for cosine similarity.\n",
        "        normalized_embeddings = tf.math.l2_normalize(movie_embeddings, axis=1)\n",
        "        return normalized_embeddings\n",
        "\n",
        "# Movie model using embeddings.\n",
        "movie_model = tf.keras.Sequential([\n",
        "    movie_titles_vocabulary,\n",
        "    tf.keras.layers.Embedding(movie_titles_vocabulary.vocabulary_size(), 64)\n",
        "])\n",
        "\n",
        "# Create similarity model instance.\n",
        "similarity_model = MovieSimilarityModel(movie_model)\n"
      ],
      "metadata": {
        "id": "mg1n412ZUorC"
      },
      "execution_count": 32,
      "outputs": []
    },
    {
      "cell_type": "markdown",
      "source": [
        "Evaluation"
      ],
      "metadata": {
        "id": "mvEJpN1Hh1eb"
      }
    },
    {
      "cell_type": "code",
      "source": [
        "# Sample query movie title.\n",
        "query_movie = np.array([\"From Dusk Till Dawn (1996)\"])\n",
        "\n",
        "# Embedding function for the query.\n",
        "query_embeddings = similarity_model(query_movie)\n",
        "\n",
        "# Calculate similarity scores using cosine similarity.\n",
        "similarity_scores = tf.linalg.matmul(query_embeddings, tf.transpose(similarity_model.movie_model.weights[1]))\n",
        "\n",
        "# Get indices of most similar movies.\n",
        "top_k = tf.math.top_k(similarity_scores, k=5)\n",
        "\n",
        "# Convert movies dataset to a list of movie titles.\n",
        "movie_titles_list = list(movies.as_numpy_iterator())\n",
        "\n",
        "# Extract movie titles from the list using indices.\n",
        "top_movie_titles = [movie_titles_list[idx] for idx in top_movie_indices]\n",
        "\n",
        "print(f\"Top 5 similar movies to '{query_movie[0]}':\")\n",
        "for i, title in enumerate(top_movie_titles):\n",
        "    print(f\"{i+1}: {title}\")\n"
      ],
      "metadata": {
        "colab": {
          "base_uri": "https://localhost:8080/"
        },
        "id": "H42g1zD4ZzZj",
        "outputId": "0ca65d96-bc75-4508-8f08-1d4dc8268fb5"
      },
      "execution_count": 35,
      "outputs": [
        {
          "output_type": "stream",
          "name": "stdout",
          "text": [
            "Top 5 similar movies to 'From Dusk Till Dawn (1996)':\n",
            "1: b'Death and the Maiden (1994)'\n",
            "2: b'Bedknobs and Broomsticks (1971)'\n",
            "3: b\"Some Mother's Son (1996)\"\n",
            "4: b'Notorious (1946)'\n",
            "5: b'Zeus and Roxanne (1997)'\n"
          ]
        }
      ]
    }
  ]
}